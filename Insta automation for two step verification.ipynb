{
 "cells": [
  {
   "cell_type": "code",
   "execution_count": 1,
   "id": "ebba92a3",
   "metadata": {},
   "outputs": [],
   "source": [
    "from selenium import webdriver\n",
    "from selenium.webdriver.common.keys import Keys\n",
    "from selenium.webdriver.common.by import By\n",
    "from selenium.webdriver.support.ui import WebDriverWait\n",
    "from selenium.webdriver.support import expected_conditions as EC\n",
    "import time\n",
    "import datetime"
   ]
  },
  {
   "cell_type": "code",
   "execution_count": 14,
   "id": "aae049e2",
   "metadata": {},
   "outputs": [],
   "source": [
    "## Load the driver\n",
    "driver = webdriver.Chrome()\n",
    "driver.get(\"https://www.instagram.com/\")\n",
    "time.sleep(2)\n",
    "\n",
    "username_field = driver.find_element(By.XPATH,'/html/body/div[2]/div/div/div[1]/div/div/div/div[1]/section/main/article/div[2]/div[1]/div[2]/form/div/div[1]/div/label/input')\n",
    "\n",
    "## Input user_name\n",
    "username_field.send_keys(\"*****\")\n",
    "\n",
    "pass_field = driver.find_element(By.XPATH,'/html/body/div[2]/div/div/div[1]/div/div/div/div[1]/section/main/article/div[2]/div[1]/div[2]/form/div/div[2]/div/label/input')\n",
    "\n",
    "## Input Password\n",
    "pass_field.send_keys(\"******\")\n",
    "\n",
    "## Click login button\n",
    "login_btn = driver.find_element(By.XPATH,'/html/body/div[2]/div/div/div[1]/div/div/div/div[1]/section/main/article/div[2]/div[1]/div[2]/form/div/div[3]')\n",
    "login_btn.click()\n",
    "\n",
    "time.sleep(4)"
   ]
  },
  {
   "cell_type": "code",
   "execution_count": 15,
   "id": "59767cf9",
   "metadata": {},
   "outputs": [],
   "source": [
    "## two step verification\n",
    "enter_otp = driver.find_element(By.XPATH,'/html/body/div[2]/div/div/div[1]/div/div/div/div[1]/section/main/div/div/div[1]/div[2]/form/div[1]/div/label/input')\n",
    "enter_otp.send_keys(\"*****\") # enter otp\n",
    "confirm_button = driver.find_element(By.XPATH,'/html/body/div[2]/div/div/div[1]/div/div/div/div[1]/section/main/div/div/div[1]/div[2]/form/div[2]/button').click()"
   ]
  },
  {
   "cell_type": "code",
   "execution_count": 16,
   "id": "24867367",
   "metadata": {},
   "outputs": [],
   "source": [
    "## Save_info or Not_now\n",
    "save_info = driver.find_element(By.XPATH,'/html/body/div[2]/div/div/div[1]/div/div/div/div[1]/div[1]/div[2]/section/main/div/div/div/div/button').click()\n",
    "\n",
    "time.sleep(2)\n",
    "\n",
    "## turn_off notification\n",
    "turnoff_notification = driver.find_element(By.XPATH,'/html/body/div[2]/div/div/div[2]/div/div/div[1]/div/div[2]/div/div/div/div/div[2]/div/div/div[3]/button[2]').click()\n",
    "time.sleep(4)\n",
    "\n",
    "## Send the messages\n",
    "click_msg = driver.find_element(By.XPATH,'/html/body/div[2]/div/div/div[1]/div/div/div/div[1]/div[1]/div[1]/div/div/div/div/div[2]/div[5]/div/a').click()\n",
    "time.sleep(5)\n",
    "\n",
    "driver.find_element(By.XPATH,'/html/body/div[2]/div/div/div[1]/div/div/div/div[1]/div[1]/div/div[2]/div/section/div/div/div/div/div[1]/div[1]/div/div[3]/button').click()\n",
    "time.sleep(3)\n",
    "\n",
    "## Search_recipient\n",
    "search_recipient = driver.find_element(By.XPATH,'/html/body/div[2]/div/div/div[2]/div/div/div[1]/div/div[2]/div/div/div/div/div[2]/div/div[2]/div[1]/div/div[2]/input')\n",
    "search_recipient.send_keys(\"*******\") # Enter recipient\n",
    "time.sleep(4)\n",
    "\n",
    "driver.find_element(By.XPATH,'/html/body/div[2]/div/div/div[2]/div/div/div[1]/div/div[2]/div/div/div/div/div[2]/div/div[2]/div[2]/div[1]/div/div[3]/button').click()\n",
    "\n",
    "driver.find_element(By.XPATH,'/html/body/div[2]/div/div/div[2]/div/div/div[1]/div/div[2]/div/div/div/div/div[2]/div/div[1]/div/div[3]').click()\n",
    "time.sleep(3)\n",
    "\n",
    "## Type message\n",
    "typ_msg= driver.find_element(By.XPATH,'/html/body/div[2]/div/div/div[1]/div/div/div/div[1]/div[1]/div/div[2]/div/section/div/div/div/div/div[2]/div[2]/div/div[2]/div/div/div[2]/textarea')\n",
    "time.sleep(4.2)\n",
    "for i in range(1000):\n",
    "    typ_msg.send_keys(\"*******\") # type msg\n",
    "    time.sleep(2)\n",
    "    typ_msg.send_keys(Keys.ENTER)"
   ]
  },
  {
   "cell_type": "code",
   "execution_count": null,
   "id": "d6300091",
   "metadata": {},
   "outputs": [],
   "source": []
  },
  {
   "cell_type": "code",
   "execution_count": null,
   "id": "c135c7bf",
   "metadata": {},
   "outputs": [],
   "source": []
  }
 ],
 "metadata": {
  "kernelspec": {
   "display_name": "Python 3",
   "language": "python",
   "name": "python3"
  },
  "language_info": {
   "codemirror_mode": {
    "name": "ipython",
    "version": 3
   },
   "file_extension": ".py",
   "mimetype": "text/x-python",
   "name": "python",
   "nbconvert_exporter": "python",
   "pygments_lexer": "ipython3",
   "version": "3.8.8"
  }
 },
 "nbformat": 4,
 "nbformat_minor": 5
}
